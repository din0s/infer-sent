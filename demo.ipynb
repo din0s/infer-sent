{
 "cells": [
  {
   "cell_type": "markdown",
   "source": [
    "# ATCS Practical 1 - Demonstration & Analysis Notebook\n",
    "\n",
    "This notebook contains a demonstration of the 4 models that have been pretrained on the SNLI task, with 4 different encoder architectures:\n",
    "- **Baseline**: averaging word embeddings as sentence repr.\n",
    "- **LSTM**: unidirectional RNN on the word embeddings, last hidden state as sentence repr.\n",
    "- **BiLSTM**: bidirectional RNN, concatenation of the last hidden states of forward & backward layers as sentence repr.\n",
    "- **BiLSTM-max**: similar to BiLSTM but we apply max pooling to the word-level hidden states instead of taking the last hidden states\n",
    "\n",
    "After loading the corresponding models from the saved checkpoints, we can select a model and feed it two sentences; a premise and a hypothesis.\n",
    "The NLI classifier will then predict the relation between the sentences - either **entailment**, **neutral** or **contradiction**.\n",
    "\n",
    "Additionally, we summarize the performance of the models as evaluated on the validation and test sets of SNLI, but also using the [SentEval](https://github.com/facebookresearch/SentEval/) toolkit.\n",
    "Finally, we perform a short error analysis to identify the strengths and weaknesses of each model, in order to find which model is most suitable in each context."
   ],
   "metadata": {
    "collapsed": false,
    "pycharm": {
     "name": "#%% md\n"
    }
   }
  },
  {
   "cell_type": "markdown",
   "source": [
    "First, we have to define some variables for the following cells to be able to locate the required files.\n",
    "- `DATA_DIR` is the directory containing the *aligned* glove embeddings, which are loaded dynamically into the encoders.\n",
    "- `LOGS_DIR` is the directory containing the model checkpoints and the TensorBoard event files.\n",
    "- `MODEL_ORDER` is the row order used to display the results."
   ],
   "metadata": {
    "collapsed": false,
    "pycharm": {
     "name": "#%% md\n"
    }
   }
  },
  {
   "cell_type": "code",
   "execution_count": 1,
   "metadata": {
    "pycharm": {
     "name": "#%%\n"
    }
   },
   "outputs": [],
   "source": [
    "# The path of the data directory (where the ALIGNED glove embeddings are)\n",
    "DATA_DIR = \"./data\"\n",
    "\n",
    "# The path of the tensorboard logs directory\n",
    "LOGS_DIR = \"./lisa_logs\"\n",
    "\n",
    "# The order in which the models should appear in the tables\n",
    "MODEL_ORDER = ['baseline', 'lstm', 'bilstm', 'bilstm-max']"
   ]
  },
  {
   "cell_type": "markdown",
   "source": [
    "## Package Imports\n",
    "Next, we need to import all required libraries and packages. All of these should be installed with the provided `environment.yml` file.\n",
    "\n",
    "Additionally, we download the English model for the SpaCy tokenizer, which is used internally to prepare the batches."
   ],
   "metadata": {
    "collapsed": false,
    "pycharm": {
     "name": "#%% md\n"
    }
   }
  },
  {
   "cell_type": "code",
   "execution_count": 2,
   "outputs": [],
   "source": [
    "from collections import defaultdict\n",
    "from encoders import *\n",
    "from glove import GloVeEmbeddings\n",
    "from IPython.display import display\n",
    "from models import Classifier\n",
    "from pandas.io.formats.style import Styler\n",
    "from tensorboard.backend.event_processing.event_accumulator import EventAccumulator\n",
    "from torchtext.data.utils import get_tokenizer\n",
    "from typing import List, Tuple\n",
    "\n",
    "import glob, os, re, spacy, torch\n",
    "import pandas as pd\n",
    "\n",
    "if not spacy.util.is_package(\"en_core_web_sm\"):\n",
    "    print(\"Downloading SpaCy English model (small)\")\n",
    "    spacy.cli.download(\"en_core_web_sm\")"
   ],
   "metadata": {
    "collapsed": false,
    "pycharm": {
     "name": "#%%\n"
    }
   }
  },
  {
   "cell_type": "markdown",
   "source": [
    "## Model Demonstration\n",
    "We can use the pretrained models to showcase how they would be used in a production system for inference."
   ],
   "metadata": {
    "collapsed": false,
    "pycharm": {
     "name": "#%% md\n"
    }
   }
  },
  {
   "cell_type": "markdown",
   "source": [
    "Let's start by loading the GloVe embeddings from the previously specified data directory, and instantiate the tokenizer to be used later on."
   ],
   "metadata": {
    "collapsed": false,
    "pycharm": {
     "name": "#%% md\n"
    }
   }
  },
  {
   "cell_type": "code",
   "execution_count": 3,
   "outputs": [
    {
     "name": "stdout",
     "output_type": "stream",
     "text": [
      "Reading pre-trained GloVe embeddings from disk\n"
     ]
    }
   ],
   "source": [
    "glove = GloVeEmbeddings(DATA_DIR)\n",
    "tokenizer = get_tokenizer('spacy', language='en_core_web_sm')"
   ],
   "metadata": {
    "collapsed": false,
    "pycharm": {
     "name": "#%%\n"
    }
   }
  },
  {
   "cell_type": "markdown",
   "source": [
    "Next, we can search in the specified log directory to find all saved checkpoints, which the pretrained models will be loaded from."
   ],
   "metadata": {
    "collapsed": false,
    "pycharm": {
     "name": "#%% md\n"
    }
   }
  },
  {
   "cell_type": "code",
   "execution_count": 4,
   "outputs": [],
   "source": [
    "CKPTS_GLOB = \"*/*/checkpoints/*.ckpt\"\n",
    "CKPTS_PATTERN = r\"([^\\/]+)\\/version_\\d+.*\\.ckpt\"\n",
    "\n",
    "EMBED_DIM = 300\n",
    "LSTM_STATE_DIM = 2048\n",
    "\n",
    "models = {}\n",
    "for ckpt_name in glob.glob(os.path.join(LOGS_DIR, CKPTS_GLOB)):\n",
    "    # Extract model name from checkpoint name\n",
    "    res = re.search(CKPTS_PATTERN, ckpt_name)\n",
    "    model_name = res.group(1)\n",
    "\n",
    "    if model_name == \"baseline\":\n",
    "        repr_dim = EMBED_DIM\n",
    "        encoder = BaselineEncoder()\n",
    "    else:\n",
    "        repr_dim = LSTM_STATE_DIM\n",
    "\n",
    "        if model_name == \"lstm\":\n",
    "            encoder = LSTMEncoder(EMBED_DIM, LSTM_STATE_DIM)\n",
    "        elif model_name == \"bilstm\":\n",
    "            repr_dim *= 2\n",
    "            encoder = BiLSTMEncoder(EMBED_DIM, LSTM_STATE_DIM)\n",
    "        elif model_name == \"bilstm-max\":\n",
    "            repr_dim *= 2\n",
    "            encoder = MaxBiLSTMEncoder(EMBED_DIM, LSTM_STATE_DIM)\n",
    "        else:\n",
    "            print(f\"Encountered unsupported encoder architecture '{model_name}'\")\n",
    "            continue\n",
    "\n",
    "    model_args = {\"embeddings\": glove.vectors, \"encoder\": encoder}\n",
    "    model = Classifier.load_from_checkpoint(ckpt_name, **model_args)\n",
    "    model.load_embeddings(glove.vectors)\n",
    "    models[model_name] = model"
   ],
   "metadata": {
    "collapsed": false,
    "pycharm": {
     "name": "#%%\n"
    }
   }
  },
  {
   "cell_type": "markdown",
   "source": [
    "We simply define a function that takes a model name, a premise and a hypothesis as arguments, and returns the predicted relation class.\n",
    "\n",
    "Inside this function, we can see the preprocessing pipeline that was applied to the dataset before training the NLI classifier."
   ],
   "metadata": {
    "collapsed": false,
    "pycharm": {
     "name": "#%% md\n"
    }
   }
  },
  {
   "cell_type": "code",
   "execution_count": 5,
   "outputs": [],
   "source": [
    "INT_TO_CLASS = {\n",
    "    0: \"entailment\",\n",
    "    1: \"neutral\",\n",
    "    2: \"contradiction\"\n",
    "}\n",
    "\n",
    "@torch.no_grad()\n",
    "def inference(model_name: str, premise: str, hypothesis: str) -> str:\n",
    "    if model_name not in models:\n",
    "        raise Exception(f\"Unknown encoder type '{model_name}'!\")\n",
    "\n",
    "    # Load model from dict\n",
    "    model = models[model_name]\n",
    "\n",
    "    # Lowercase + tokenize\n",
    "    premise = tokenizer(premise.lower())\n",
    "    hypothesis = tokenizer(hypothesis.lower())\n",
    "\n",
    "    # Convert list of tokens to list of IDs\n",
    "    premise = [glove.get_id(t) for t in premise]\n",
    "    hypothesis = [glove.get_id(t) for t in hypothesis]\n",
    "\n",
    "    # Convert to tensors with an extra dimension (batch_size=1)\n",
    "    p = torch.IntTensor(premise).unsqueeze(0)\n",
    "    h = torch.IntTensor(hypothesis).unsqueeze(0)\n",
    "\n",
    "    # Count length of each sentence\n",
    "    p_len = torch.LongTensor([len(premise)])\n",
    "    h_len = torch.LongTensor([len(hypothesis)])\n",
    "\n",
    "    logits = model(p, h, p_len, h_len)\n",
    "    category = INT_TO_CLASS[logits.argmax().item()]\n",
    "    return category"
   ],
   "metadata": {
    "collapsed": false,
    "pycharm": {
     "name": "#%%\n"
    }
   }
  },
  {
   "cell_type": "markdown",
   "source": [
    "Finally, we have an **interactive** cell, meaning that we can play around with the 3 values.\n",
    "- `MODEL_NAME` specifies which model to use; thus, it has to be one of the 4 supported architectures.\n",
    "- `PREMISE` corresponds to the first of the two sentences that will be fed to the model.\n",
    "- `HYPOTHESIS` corresponds to the second sentence."
   ],
   "metadata": {
    "collapsed": false,
    "pycharm": {
     "name": "#%% md\n"
    }
   }
  },
  {
   "cell_type": "code",
   "execution_count": 6,
   "outputs": [
    {
     "data": {
      "text/plain": "'contradiction'"
     },
     "execution_count": 6,
     "metadata": {},
     "output_type": "execute_result"
    }
   ],
   "source": [
    "# must be one of: 'baseline', 'lstm', 'bilstm', 'bilstm-max'\n",
    "MODEL_NAME = 'bilstm-max'\n",
    "\n",
    "PREMISE = 'The dog is eating.'\n",
    "HYPOTHESIS = 'The dog sleeps.'\n",
    "\n",
    "inference(MODEL_NAME, PREMISE, HYPOTHESIS)"
   ],
   "metadata": {
    "collapsed": false,
    "pycharm": {
     "name": "#%%\n"
    }
   }
  },
  {
   "cell_type": "markdown",
   "source": [
    "As we can see, our BiLSTM-max model correctly inferred that the sentences `The dog is eating.` and `The dog sleeps.` are contradicting.\n",
    "\n",
    "You can see how the model's prediction will change when you try out different sentences.\n",
    "\n",
    "We will perform a more extensive analysis focusing on the errors later on."
   ],
   "metadata": {
    "collapsed": false,
    "pycharm": {
     "name": "#%% md\n"
    }
   }
  },
  {
   "cell_type": "markdown",
   "source": [
    "## Results Overview\n",
    "Let's recreate the two tables from the original paper, which showcase the performance of our models in both the original and the transfer tasks."
   ],
   "metadata": {
    "collapsed": false,
    "pycharm": {
     "name": "#%% md\n"
    }
   }
  },
  {
   "cell_type": "markdown",
   "source": [
    "First, we define a few functions that are used to modify the display style of the dataframes we will create later on (purely for aesthetic reasons)."
   ],
   "metadata": {
    "collapsed": false,
    "pycharm": {
     "name": "#%% md\n"
    }
   }
  },
  {
   "cell_type": "code",
   "execution_count": 7,
   "outputs": [],
   "source": [
    "def highlight_max(s: pd.Series) -> List[str]:\n",
    "    is_max = s == s.max()\n",
    "    return ['font-weight: bold' if cell else '' for cell in is_max]\n",
    "\n",
    "def format_df(df: pd.DataFrame) -> Styler:\n",
    "    dfs = Styler(df)\n",
    "    dfs = dfs.apply(highlight_max)\n",
    "    dfs = dfs.format(\"{:2.2f}\")\n",
    "    dfs = dfs.set_table_styles([\n",
    "        dict(selector='thead th', props=[('text-align', 'center'), ('vertical-align', 'bottom')]),\n",
    "        dict(selector='td', props=[('text-align', 'center'), ('padding', '0.5em 1.5em')]),\n",
    "    ])\n",
    "    return dfs"
   ],
   "metadata": {
    "collapsed": false,
    "pycharm": {
     "name": "#%%\n"
    }
   }
  },
  {
   "cell_type": "markdown",
   "source": [
    "### Performance Comparison"
   ],
   "metadata": {
    "collapsed": false,
    "pycharm": {
     "name": "#%% md\n"
    }
   }
  },
  {
   "cell_type": "markdown",
   "source": [
    "Using the specified logs directory, we access the TensorBoard event files and extract the recorded validation/test accuracies for the SNLI dataset."
   ],
   "metadata": {
    "collapsed": false,
    "pycharm": {
     "name": "#%% md\n"
    }
   }
  },
  {
   "cell_type": "code",
   "execution_count": 8,
   "outputs": [],
   "source": [
    "LOGS_GLOB = \"*/*\"\n",
    "LOGS_PATTERN = r\"([^\\/]+)\\/((?:version_\\d+)|(?:eval))\"\n",
    "\n",
    "nli_df = pd.DataFrame(columns=['dev', 'test'])\n",
    "for log_name in glob.glob(os.path.join(LOGS_DIR, LOGS_GLOB)):\n",
    "    # Extract model & version name from logfile name\n",
    "    res = re.search(LOGS_PATTERN, log_name)\n",
    "    model_name = res.group(1)\n",
    "    is_test = res.group(2) == \"eval\"\n",
    "\n",
    "    # Read the TFEvents file\n",
    "    ea = EventAccumulator(log_name)\n",
    "    ea.Reload()\n",
    "\n",
    "    if is_test:\n",
    "        # Read the test_acc value\n",
    "        acc = ea.Scalars('test_acc')[0].value\n",
    "    else:\n",
    "        # Read all val_acc values and pick the maximum\n",
    "        acc = max(map(lambda e: e.value, ea.Scalars('val_acc')))\n",
    "\n",
    "    # Convert accuracy to percentage\n",
    "    acc *= 100\n",
    "\n",
    "    col_name = 'test' if is_test else 'dev'\n",
    "    if model_name not in nli_df.index:\n",
    "        acc_df = pd.DataFrame.from_dict({col_name: [acc]})\n",
    "        acc_df.index = [model_name]\n",
    "\n",
    "        nli_df = pd.concat((nli_df, acc_df))\n",
    "    else:\n",
    "        nli_df.at[model_name, col_name] = acc"
   ],
   "metadata": {
    "collapsed": false,
    "pycharm": {
     "name": "#%%\n"
    }
   }
  },
  {
   "cell_type": "markdown",
   "source": [
    "We create a helper function that calculates the micro and macro accuracy of the validation sets used in the SentEval tasks.\n",
    "\n",
    "The input of this function is a dataframe corresponding to the SentEval results for a given model, along with its name."
   ],
   "metadata": {
    "collapsed": false,
    "pycharm": {
     "name": "#%% md\n"
    }
   }
  },
  {
   "cell_type": "code",
   "execution_count": 9,
   "outputs": [],
   "source": [
    "def calculate_accuracy(df: pd.DataFrame, name: str) -> pd.DataFrame:\n",
    "    # Filter out columns that don't have a validation accuracy\n",
    "    # This is the case in non-classification tasks, such as SICK-R and STS14\n",
    "    df = df.loc[:, df.loc['devacc'].notnull()]\n",
    "\n",
    "    # Extract the validation accuracy for each task\n",
    "    val_acc = df.loc['devacc']\n",
    "\n",
    "    # Calculate the weighing factor for micro-accuracy\n",
    "    n_val = df.loc['ndev']\n",
    "    weight = n_val / n_val.sum()\n",
    "\n",
    "    # Calculate the macro and micro accuracy\n",
    "    macro = val_acc.mean()\n",
    "    micro = (val_acc * weight).sum()\n",
    "\n",
    "    # Return metrics as dataframe\n",
    "    acc_dict = {'micro': [micro], 'macro': [macro]}\n",
    "    acc_df = pd.DataFrame.from_dict(acc_dict)\n",
    "    acc_df.index = [name]\n",
    "    return acc_df"
   ],
   "metadata": {
    "collapsed": false,
    "pycharm": {
     "name": "#%%\n"
    }
   }
  },
  {
   "cell_type": "markdown",
   "source": [
    "Using the specified logs directory once again, we access the SentEval JSON files and extract the (micro/macro) validation accuracy."
   ],
   "metadata": {
    "collapsed": false,
    "pycharm": {
     "name": "#%% md\n"
    }
   }
  },
  {
   "cell_type": "code",
   "execution_count": 10,
   "outputs": [],
   "source": [
    "RESULTS_GLOB = \"results_*.json\"\n",
    "RESULTS_PATTERN = r\"results*_([^\\.]+)\\.json\"\n",
    "\n",
    "transfer_df = pd.DataFrame()\n",
    "for results_file in glob.glob(os.path.join(LOGS_DIR, RESULTS_GLOB)):\n",
    "    # Extract model name from file name\n",
    "    res = re.search(RESULTS_PATTERN, results_file)\n",
    "    model_name = res.group(1)\n",
    "\n",
    "    # Convert json to dataframe\n",
    "    df = pd.read_json(results_file)\n",
    "    # Calculate accuracies and create dataframe row\n",
    "    model_accs = calculate_accuracy(df, model_name)\n",
    "\n",
    "    # Append row to transfer results dataframe\n",
    "    transfer_df = pd.concat((transfer_df, model_accs))"
   ],
   "metadata": {
    "collapsed": false,
    "pycharm": {
     "name": "#%%\n"
    }
   }
  },
  {
   "cell_type": "markdown",
   "source": [
    "Finally, we concatenate the two \"subtables\" to produce Table 3 from the original paper."
   ],
   "metadata": {
    "collapsed": false,
    "pycharm": {
     "name": "#%% md\n"
    }
   }
  },
  {
   "cell_type": "code",
   "execution_count": 11,
   "outputs": [
    {
     "data": {
      "text/plain": "<pandas.io.formats.style.Styler at 0x7f6fdd63e4f0>",
      "text/html": "<style  type=\"text/css\" >\n    #T_37b83_ thead th {\n          text-align: center;\n          vertical-align: bottom;\n    }    #T_37b83_ td {\n          text-align: center;\n          padding: 0.5em 1.5em;\n    }#T_37b83_row3_col0,#T_37b83_row3_col1,#T_37b83_row3_col2,#T_37b83_row3_col3{\n            font-weight:  bold;\n        }</style><table id=\"T_37b83_\" ><thead>    <tr>        <th class=\"blank level0\" ></th>        <th class=\"col_heading level0 col0\" colspan=\"2\">NLI</th>        <th class=\"col_heading level0 col2\" colspan=\"2\">Transfer</th>    </tr>    <tr>        <th class=\"blank level1\" ></th>        <th class=\"col_heading level1 col0\" >dev</th>        <th class=\"col_heading level1 col1\" >test</th>        <th class=\"col_heading level1 col2\" >micro</th>        <th class=\"col_heading level1 col3\" >macro</th>    </tr></thead><tbody>\n                <tr>\n                        <th id=\"T_37b83_level0_row0\" class=\"row_heading level0 row0\" >baseline</th>\n                        <td id=\"T_37b83_row0_col0\" class=\"data row0 col0\" >65.72</td>\n                        <td id=\"T_37b83_row0_col1\" class=\"data row0 col1\" >65.33</td>\n                        <td id=\"T_37b83_row0_col2\" class=\"data row0 col2\" >80.70</td>\n                        <td id=\"T_37b83_row0_col3\" class=\"data row0 col3\" >79.09</td>\n            </tr>\n            <tr>\n                        <th id=\"T_37b83_level0_row1\" class=\"row_heading level0 row1\" >lstm</th>\n                        <td id=\"T_37b83_row1_col0\" class=\"data row1 col0\" >81.45</td>\n                        <td id=\"T_37b83_row1_col1\" class=\"data row1 col1\" >81.26</td>\n                        <td id=\"T_37b83_row1_col2\" class=\"data row1 col2\" >78.19</td>\n                        <td id=\"T_37b83_row1_col3\" class=\"data row1 col3\" >77.56</td>\n            </tr>\n            <tr>\n                        <th id=\"T_37b83_level0_row2\" class=\"row_heading level0 row2\" >bilstm</th>\n                        <td id=\"T_37b83_row2_col0\" class=\"data row2 col0\" >80.87</td>\n                        <td id=\"T_37b83_row2_col1\" class=\"data row2 col1\" >80.66</td>\n                        <td id=\"T_37b83_row2_col2\" class=\"data row2 col2\" >81.07</td>\n                        <td id=\"T_37b83_row2_col3\" class=\"data row2 col3\" >80.54</td>\n            </tr>\n            <tr>\n                        <th id=\"T_37b83_level0_row3\" class=\"row_heading level0 row3\" >bilstm-max</th>\n                        <td id=\"T_37b83_row3_col0\" class=\"data row3 col0\" >84.37</td>\n                        <td id=\"T_37b83_row3_col1\" class=\"data row3 col1\" >83.85</td>\n                        <td id=\"T_37b83_row3_col2\" class=\"data row3 col2\" >82.53</td>\n                        <td id=\"T_37b83_row3_col3\" class=\"data row3 col3\" >82.06</td>\n            </tr>\n    </tbody></table>"
     },
     "execution_count": 11,
     "metadata": {},
     "output_type": "execute_result"
    }
   ],
   "source": [
    "performance_df = pd.concat((nli_df, transfer_df), axis=1, keys=['NLI', 'Transfer'])\n",
    "performance_df.reindex(MODEL_ORDER)\n",
    "\n",
    "format_df(performance_df)"
   ],
   "metadata": {
    "collapsed": false,
    "pycharm": {
     "name": "#%%\n"
    }
   }
  },
  {
   "cell_type": "markdown",
   "source": [
    "From this table we can see that the BiLSTM architecture with max-pooling is the one that performs the best, both in the SNLI task and on SentEval.\n",
    "\n",
    "However, it is interesting to notice that even the baseline approach is able to perform close to 80% accuracy in the transfer tasks.\n",
    "More precisely, it seems to even overcome the LSTM in terms of performance, with a much less resource demanding pre-training.\n",
    "\n",
    "Finally, the performance gains when applying max-pooling over using the last hidden states are significant.\n",
    "Intuitively, it seems as if the max-pooling operation is able to \"focus\" on the important words in the sentence, which improves the representation."
   ],
   "metadata": {
    "collapsed": false,
    "pycharm": {
     "name": "#%% md\n"
    }
   }
  },
  {
   "cell_type": "markdown",
   "source": [
    "### SentEval Comparison"
   ],
   "metadata": {
    "collapsed": false,
    "pycharm": {
     "name": "#%% md\n"
    }
   }
  },
  {
   "cell_type": "markdown",
   "source": [
    "By iterating over the SentEval results again, we now aggregate all performance information across all models to generate Table 4 from the original paper."
   ],
   "metadata": {
    "collapsed": false,
    "pycharm": {
     "name": "#%% md\n"
    }
   }
  },
  {
   "cell_type": "code",
   "execution_count": 12,
   "outputs": [
    {
     "data": {
      "text/plain": "<pandas.io.formats.style.Styler at 0x7f6fdd689df0>",
      "text/html": "<style  type=\"text/css\" >\n    #T_8c5a0_ thead th {\n          text-align: center;\n          vertical-align: bottom;\n    }    #T_8c5a0_ td {\n          text-align: center;\n          padding: 0.5em 1.5em;\n    }#T_8c5a0_row3_col0,#T_8c5a0_row3_col1,#T_8c5a0_row3_col2,#T_8c5a0_row3_col3,#T_8c5a0_row3_col4,#T_8c5a0_row3_col5,#T_8c5a0_row3_col6,#T_8c5a0_row3_col7,#T_8c5a0_row3_col8,#T_8c5a0_row3_col9,#T_8c5a0_row3_col10,#T_8c5a0_row3_col11{\n            font-weight:  bold;\n        }</style><table id=\"T_8c5a0_\" ><thead>    <tr>        <th class=\"blank level0\" ></th>        <th class=\"col_heading level0 col0\" >MR</th>        <th class=\"col_heading level0 col1\" >CR</th>        <th class=\"col_heading level0 col2\" >SUBJ</th>        <th class=\"col_heading level0 col3\" >MPQA</th>        <th class=\"col_heading level0 col4\" >SST</th>        <th class=\"col_heading level0 col5\" >TREC</th>        <th class=\"col_heading level0 col6\" >MRPC<br>accuracy</th>        <th class=\"col_heading level0 col7\" >MRPC<br>F1-score</th>        <th class=\"col_heading level0 col8\" >SICK-R</th>        <th class=\"col_heading level0 col9\" >SICK-E</th>        <th class=\"col_heading level0 col10\" >STS14<br>average<br>pearson</th>        <th class=\"col_heading level0 col11\" >STS14<br>weighted<br>pearson</th>    </tr></thead><tbody>\n                <tr>\n                        <th id=\"T_8c5a0_level0_row0\" class=\"row_heading level0 row0\" >baseline</th>\n                        <td id=\"T_8c5a0_row0_col0\" class=\"data row0 col0\" >75.11</td>\n                        <td id=\"T_8c5a0_row0_col1\" class=\"data row0 col1\" >79.31</td>\n                        <td id=\"T_8c5a0_row0_col2\" class=\"data row0 col2\" >90.57</td>\n                        <td id=\"T_8c5a0_row0_col3\" class=\"data row0 col3\" >84.77</td>\n                        <td id=\"T_8c5a0_row0_col4\" class=\"data row0 col4\" >78.25</td>\n                        <td id=\"T_8c5a0_row0_col5\" class=\"data row0 col5\" >81.00</td>\n                        <td id=\"T_8c5a0_row0_col6\" class=\"data row0 col6\" >72.52</td>\n                        <td id=\"T_8c5a0_row0_col7\" class=\"data row0 col7\" >81.24</td>\n                        <td id=\"T_8c5a0_row0_col8\" class=\"data row0 col8\" >0.80</td>\n                        <td id=\"T_8c5a0_row0_col9\" class=\"data row0 col9\" >78.73</td>\n                        <td id=\"T_8c5a0_row0_col10\" class=\"data row0 col10\" >0.45</td>\n                        <td id=\"T_8c5a0_row0_col11\" class=\"data row0 col11\" >0.46</td>\n            </tr>\n            <tr>\n                        <th id=\"T_8c5a0_level0_row1\" class=\"row_heading level0 row1\" >lstm</th>\n                        <td id=\"T_8c5a0_row1_col0\" class=\"data row1 col0\" >72.49</td>\n                        <td id=\"T_8c5a0_row1_col1\" class=\"data row1 col1\" >76.72</td>\n                        <td id=\"T_8c5a0_row1_col2\" class=\"data row1 col2\" >86.61</td>\n                        <td id=\"T_8c5a0_row1_col3\" class=\"data row1 col3\" >85.03</td>\n                        <td id=\"T_8c5a0_row1_col4\" class=\"data row1 col4\" >76.72</td>\n                        <td id=\"T_8c5a0_row1_col5\" class=\"data row1 col5\" >78.60</td>\n                        <td id=\"T_8c5a0_row1_col6\" class=\"data row1 col6\" >72.41</td>\n                        <td id=\"T_8c5a0_row1_col7\" class=\"data row1 col7\" >81.51</td>\n                        <td id=\"T_8c5a0_row1_col8\" class=\"data row1 col8\" >0.86</td>\n                        <td id=\"T_8c5a0_row1_col9\" class=\"data row1 col9\" >84.45</td>\n                        <td id=\"T_8c5a0_row1_col10\" class=\"data row1 col10\" >0.55</td>\n                        <td id=\"T_8c5a0_row1_col11\" class=\"data row1 col11\" >0.56</td>\n            </tr>\n            <tr>\n                        <th id=\"T_8c5a0_level0_row2\" class=\"row_heading level0 row2\" >bilstm</th>\n                        <td id=\"T_8c5a0_row2_col0\" class=\"data row2 col0\" >73.02</td>\n                        <td id=\"T_8c5a0_row2_col1\" class=\"data row2 col1\" >78.49</td>\n                        <td id=\"T_8c5a0_row2_col2\" class=\"data row2 col2\" >89.95</td>\n                        <td id=\"T_8c5a0_row2_col3\" class=\"data row2 col3\" >84.98</td>\n                        <td id=\"T_8c5a0_row2_col4\" class=\"data row2 col4\" >78.42</td>\n                        <td id=\"T_8c5a0_row2_col5\" class=\"data row2 col5\" >86.40</td>\n                        <td id=\"T_8c5a0_row2_col6\" class=\"data row2 col6\" >71.13</td>\n                        <td id=\"T_8c5a0_row2_col7\" class=\"data row2 col7\" >80.08</td>\n                        <td id=\"T_8c5a0_row2_col8\" class=\"data row2 col8\" >0.87</td>\n                        <td id=\"T_8c5a0_row2_col9\" class=\"data row2 col9\" >83.84</td>\n                        <td id=\"T_8c5a0_row2_col10\" class=\"data row2 col10\" >0.56</td>\n                        <td id=\"T_8c5a0_row2_col11\" class=\"data row2 col11\" >0.58</td>\n            </tr>\n            <tr>\n                        <th id=\"T_8c5a0_level0_row3\" class=\"row_heading level0 row3\" >bilstm-max</th>\n                        <td id=\"T_8c5a0_row3_col0\" class=\"data row3 col0\" >75.40</td>\n                        <td id=\"T_8c5a0_row3_col1\" class=\"data row3 col1\" >81.14</td>\n                        <td id=\"T_8c5a0_row3_col2\" class=\"data row3 col2\" >91.45</td>\n                        <td id=\"T_8c5a0_row3_col3\" class=\"data row3 col3\" >85.47</td>\n                        <td id=\"T_8c5a0_row3_col4\" class=\"data row3 col4\" >79.19</td>\n                        <td id=\"T_8c5a0_row3_col5\" class=\"data row3 col5\" >87.20</td>\n                        <td id=\"T_8c5a0_row3_col6\" class=\"data row3 col6\" >74.09</td>\n                        <td id=\"T_8c5a0_row3_col7\" class=\"data row3 col7\" >81.72</td>\n                        <td id=\"T_8c5a0_row3_col8\" class=\"data row3 col8\" >0.88</td>\n                        <td id=\"T_8c5a0_row3_col9\" class=\"data row3 col9\" >85.24</td>\n                        <td id=\"T_8c5a0_row3_col10\" class=\"data row3 col10\" >0.63</td>\n                        <td id=\"T_8c5a0_row3_col11\" class=\"data row3 col11\" >0.65</td>\n            </tr>\n    </tbody></table>"
     },
     "execution_count": 12,
     "metadata": {},
     "output_type": "execute_result"
    }
   ],
   "source": [
    "RESULTS_GLOB = \"results_*.json\"\n",
    "RESULTS_PATTERN = r\"results*_([^\\.]+)\\.json\"\n",
    "\n",
    "senteval_df = pd.DataFrame()\n",
    "for results_file in glob.glob(os.path.join(LOGS_DIR, RESULTS_GLOB)):\n",
    "    # Extract model name from file name\n",
    "    res = re.search(RESULTS_PATTERN, results_file)\n",
    "    model_name = res.group(1)\n",
    "\n",
    "    # Convert json to dataframe\n",
    "    df = pd.read_json(results_file)\n",
    "\n",
    "    # Select accuracy for classification tasks (except MRPC)\n",
    "    df_class = df.loc[['acc'], df.loc['acc'].notnull()].drop('MRPC', axis=1)\n",
    "    df_class.index = [model_name]\n",
    "\n",
    "    # Select accuracy and F1 score for the MRPC task\n",
    "    mrpc_cols = pd.MultiIndex.from_product((['MRPC'], ['acc','f1']))\n",
    "    mrpc_vals = df.loc[['acc', 'f1'], 'MRPC'].array\n",
    "    df_mrpc = pd.DataFrame([mrpc_vals], columns=mrpc_cols, index=[model_name])\n",
    "\n",
    "    # Select pearson value for the SICK-R task\n",
    "    df_sickr = pd.DataFrame(df.loc[['pearson'], 'SICKRelatedness'])\n",
    "    df_sickr.index = [model_name]\n",
    "\n",
    "    # Select pearson value(s) for the STS14 task\n",
    "    dict_sts14 = df.loc['all', 'STS14']['pearson']\n",
    "    sts14_cols = pd.MultiIndex.from_product((['STS14'], dict_sts14.keys()))\n",
    "    df_sts14 = pd.DataFrame([dict_sts14.values()], columns=sts14_cols, index=[model_name])\n",
    "\n",
    "    # Concat all tasks to one dataframe row\n",
    "    scores_df = pd.concat((df_class, df_mrpc, df_sickr, df_sts14), axis=1)\n",
    "\n",
    "    # Append row to to SentEval scores dataframe\n",
    "    senteval_df = pd.concat((senteval_df, scores_df), axis=0)\n",
    "\n",
    "TASK_ORDER = [\n",
    "    'MR', 'CR', 'SUBJ', 'MPQA', 'SST2', 'TREC',\n",
    "    ('MRPC', 'acc'), ('MRPC', 'f1'),\n",
    "    'SICKRelatedness', 'SICKEntailment',\n",
    "    ('STS14', 'mean'), ('STS14', 'wmean')\n",
    "]\n",
    "\n",
    "TASK_NAMES = TASK_ORDER.copy()\n",
    "TASK_NAMES[4] = 'SST'\n",
    "TASK_NAMES[6] = 'MRPC<br>accuracy' ; TASK_NAMES[7] = 'MRPC<br>F1-score'\n",
    "TASK_NAMES[-4] = 'SICK-R' ; TASK_NAMES[-3] = 'SICK-E'\n",
    "TASK_NAMES[-2] = 'STS14<br>average<br>pearson' ; TASK_NAMES[-1] = 'STS14<br>weighted<br>pearson'\n",
    "\n",
    "senteval_df = senteval_df.reindex(MODEL_ORDER).T.reindex(TASK_ORDER).T\n",
    "senteval_df.columns = TASK_NAMES  # rename to match the paper's order\n",
    "\n",
    "format_df(senteval_df)"
   ],
   "metadata": {
    "collapsed": false,
    "pycharm": {
     "name": "#%%\n"
    }
   }
  },
  {
   "cell_type": "markdown",
   "source": [
    "In this more detailed table, we can verify that the BiLSTM architecture with max-pooling is indeed the superior amongst the ones evaluated.\n",
    "\n",
    "However, it is still surprising to see the baseline encoder surpass the other two LSTM approaches in terms of performance in a few tasks.\n",
    "Moreover, it appears like the baseline encoder is in practice able to generalize quite well to the transfer tasks that are dissimilar to SNLI,\n",
    "while it lacks behind the other models in tasks such as SICK-R and STS14 which are under the category of semantic similarity and NLI.\n",
    "\n",
    "Overall, the differences in performance between the uni- and the bi-directional LSTM encoders is not that significant, which is puzzling\n",
    "given the theoretical superiority in processing a piece of text in both left-to-right and right-to-left manners. It is possible that in\n",
    "the latter case, the captured information may sometimes be inducing more confusion rather than clarifying ambiguities."
   ],
   "metadata": {
    "collapsed": false,
    "pycharm": {
     "name": "#%% md\n"
    }
   }
  },
  {
   "cell_type": "markdown",
   "source": [
    "## Error Analysis\n",
    "Finally, we can take a closer look into some more concrete examples that showcase where each model outperforms the rest, and where each model fails."
   ],
   "metadata": {
    "collapsed": false,
    "pycharm": {
     "name": "#%% md\n"
    }
   }
  },
  {
   "cell_type": "markdown",
   "source": [
    "Before we begin with our analysis, let's define a helper function that will call the inference method for all models."
   ],
   "metadata": {
    "collapsed": false,
    "pycharm": {
     "name": "#%% md\n"
    }
   }
  },
  {
   "cell_type": "code",
   "execution_count": 13,
   "outputs": [],
   "source": [
    "def query_models(*pairs: Tuple[str, str]):\n",
    "    indices, rows = [], defaultdict(list)\n",
    "    for premise, hypothesis in pairs:\n",
    "        indices += [f'{premise}<br>{hypothesis}']\n",
    "        for model in MODEL_ORDER:\n",
    "            rows[model] += [inference(model, premise, hypothesis)]\n",
    "\n",
    "    df = pd.DataFrame.from_dict(rows)\n",
    "    df.index = indices\n",
    "\n",
    "    df = df.style.set_table_styles([\n",
    "        dict(selector='th, td', props=[('text-align', 'center'), ('padding', '0.5em 1em')]),\n",
    "    ])\n",
    "\n",
    "    display(df)"
   ],
   "metadata": {
    "collapsed": false,
    "pycharm": {
     "name": "#%%\n"
    }
   }
  },
  {
   "cell_type": "markdown",
   "source": [
    "In the following examples, we will be querying the models with three pairs of sentences:\n",
    "- the first one having a true positive class of **entailment**,\n",
    "- the second one being a **contradiction**, and\n",
    "- the last one being a **neutral** pair.\n",
    "\n",
    "It should be noted that these pairs were not engineered to be fully representative of each domain, as that would require some\n",
    "closer insight into the actual sentences that comprise them. However, they can be considered possible sentences that could appear\n",
    "in the corresponding datasets, so it should give us some general idea of how the models perform at each one."
   ],
   "metadata": {
    "collapsed": false,
    "pycharm": {
     "name": "#%% md\n"
    }
   }
  },
  {
   "cell_type": "markdown",
   "source": [
    "### Movie Reviews (MR)"
   ],
   "metadata": {
    "collapsed": false,
    "pycharm": {
     "name": "#%% md\n"
    }
   }
  },
  {
   "cell_type": "code",
   "execution_count": 14,
   "outputs": [
    {
     "data": {
      "text/plain": "<pandas.io.formats.style.Styler at 0x7f6fe0b57760>",
      "text/html": "<style  type=\"text/css\" >\n    #T_aabec_ th, td {\n          text-align: center;\n          padding: 0.5em 1em;\n    }</style><table id=\"T_aabec_\" ><thead>    <tr>        <th class=\"blank level0\" ></th>        <th class=\"col_heading level0 col0\" >baseline</th>        <th class=\"col_heading level0 col1\" >lstm</th>        <th class=\"col_heading level0 col2\" >bilstm</th>        <th class=\"col_heading level0 col3\" >bilstm-max</th>    </tr></thead><tbody>\n                <tr>\n                        <th id=\"T_aabec_level0_row0\" class=\"row_heading level0 row0\" >It was entertaining and full of suspense.<br>The movie was enjoyable and kept me hooked!</th>\n                        <td id=\"T_aabec_row0_col0\" class=\"data row0 col0\" >neutral</td>\n                        <td id=\"T_aabec_row0_col1\" class=\"data row0 col1\" >entailment</td>\n                        <td id=\"T_aabec_row0_col2\" class=\"data row0 col2\" >contradiction</td>\n                        <td id=\"T_aabec_row0_col3\" class=\"data row0 col3\" >contradiction</td>\n            </tr>\n            <tr>\n                        <th id=\"T_aabec_level0_row1\" class=\"row_heading level0 row1\" >Boring, I would not recommend it...<br>I definitely suggest you watch it!</th>\n                        <td id=\"T_aabec_row1_col0\" class=\"data row1 col0\" >entailment</td>\n                        <td id=\"T_aabec_row1_col1\" class=\"data row1 col1\" >contradiction</td>\n                        <td id=\"T_aabec_row1_col2\" class=\"data row1 col2\" >contradiction</td>\n                        <td id=\"T_aabec_row1_col3\" class=\"data row1 col3\" >contradiction</td>\n            </tr>\n            <tr>\n                        <th id=\"T_aabec_level0_row2\" class=\"row_heading level0 row2\" >I really liked the cinematography.<br>The actor was handsome.</th>\n                        <td id=\"T_aabec_row2_col0\" class=\"data row2 col0\" >neutral</td>\n                        <td id=\"T_aabec_row2_col1\" class=\"data row2 col1\" >neutral</td>\n                        <td id=\"T_aabec_row2_col2\" class=\"data row2 col2\" >neutral</td>\n                        <td id=\"T_aabec_row2_col3\" class=\"data row2 col3\" >neutral</td>\n            </tr>\n    </tbody></table>"
     },
     "metadata": {},
     "output_type": "display_data"
    }
   ],
   "source": [
    "query_models(\n",
    "    (\"It was entertaining and full of suspense.\", \"The movie was enjoyable and kept me hooked!\"),\n",
    "    (\"Boring, I would not recommend it...\", \"I definitely suggest you watch it!\"),\n",
    "    (\"I really liked the cinematography.\", \"The actor was handsome.\")\n",
    ")"
   ],
   "metadata": {
    "collapsed": false,
    "pycharm": {
     "name": "#%%\n"
    }
   }
  },
  {
   "cell_type": "markdown",
   "source": [
    "In this domain, it appears that all models are able to detect neutrality, and all LSTM architectures detect contradiction.\n",
    "\n",
    "However, for entailment only the unidirectional LSTM was able to correctly identify the true class.\n",
    "\n",
    "All cases should be fairly simple for a human annotator, so it is surprising that the encoders fail to capture that information.\n",
    "\n",
    "According to the ~75% accuracy reported on the table of the last section, these samples confirm that there is room for improvement overall."
   ],
   "metadata": {
    "collapsed": false,
    "pycharm": {
     "name": "#%% md\n"
    }
   }
  },
  {
   "cell_type": "markdown",
   "source": [
    "### Customer Review (CR)"
   ],
   "metadata": {
    "collapsed": false,
    "pycharm": {
     "name": "#%% md\n"
    }
   }
  },
  {
   "cell_type": "code",
   "execution_count": 15,
   "outputs": [
    {
     "data": {
      "text/plain": "<pandas.io.formats.style.Styler at 0x7f6fdd879a00>",
      "text/html": "<style  type=\"text/css\" >\n    #T_2afb8_ th, td {\n          text-align: center;\n          padding: 0.5em 1em;\n    }</style><table id=\"T_2afb8_\" ><thead>    <tr>        <th class=\"blank level0\" ></th>        <th class=\"col_heading level0 col0\" >baseline</th>        <th class=\"col_heading level0 col1\" >lstm</th>        <th class=\"col_heading level0 col2\" >bilstm</th>        <th class=\"col_heading level0 col3\" >bilstm-max</th>    </tr></thead><tbody>\n                <tr>\n                        <th id=\"T_2afb8_level0_row0\" class=\"row_heading level0 row0\" >Nice design, but the functionality is limited.<br>It is aesthetically pleasing, but I cannot do much with it.</th>\n                        <td id=\"T_2afb8_row0_col0\" class=\"data row0 col0\" >neutral</td>\n                        <td id=\"T_2afb8_row0_col1\" class=\"data row0 col1\" >entailment</td>\n                        <td id=\"T_2afb8_row0_col2\" class=\"data row0 col2\" >neutral</td>\n                        <td id=\"T_2afb8_row0_col3\" class=\"data row0 col3\" >contradiction</td>\n            </tr>\n            <tr>\n                        <th id=\"T_2afb8_level0_row1\" class=\"row_heading level0 row1\" >This is revolutionary!<br>I find it completely useless.</th>\n                        <td id=\"T_2afb8_row1_col0\" class=\"data row1 col0\" >contradiction</td>\n                        <td id=\"T_2afb8_row1_col1\" class=\"data row1 col1\" >contradiction</td>\n                        <td id=\"T_2afb8_row1_col2\" class=\"data row1 col2\" >contradiction</td>\n                        <td id=\"T_2afb8_row1_col3\" class=\"data row1 col3\" >contradiction</td>\n            </tr>\n            <tr>\n                        <th id=\"T_2afb8_level0_row2\" class=\"row_heading level0 row2\" >I recommend this product.<br>I bought it because I couldn't find any alternatives.</th>\n                        <td id=\"T_2afb8_row2_col0\" class=\"data row2 col0\" >neutral</td>\n                        <td id=\"T_2afb8_row2_col1\" class=\"data row2 col1\" >neutral</td>\n                        <td id=\"T_2afb8_row2_col2\" class=\"data row2 col2\" >contradiction</td>\n                        <td id=\"T_2afb8_row2_col3\" class=\"data row2 col3\" >contradiction</td>\n            </tr>\n    </tbody></table>"
     },
     "metadata": {},
     "output_type": "display_data"
    }
   ],
   "source": [
    "query_models(\n",
    "    (\"Nice design, but the functionality is limited.\", \"It is aesthetically pleasing, but I cannot do much with it.\"),\n",
    "    (\"This is revolutionary!\", \"I find it completely useless.\"),\n",
    "    (\"I recommend this product.\", \"I bought it because I couldn't find any alternatives.\")\n",
    ")"
   ],
   "metadata": {
    "collapsed": false,
    "pycharm": {
     "name": "#%%\n"
    }
   }
  },
  {
   "cell_type": "markdown",
   "source": [
    "In these cases we see even less accurate results, which is not fully in accordance with the slightly higher reported performance on the table.\n",
    "\n",
    "While the contradiction is easy to predict, the entailment is only correctly identified again by the LSTM.\n",
    "\n",
    "This was a surprise given the fact that the entailment pair is seemingly simple.\n",
    "\n",
    "On an interesting note, the neutral pair is not detected by the BiLSTM architectures, despite them being more complex in theory.\n",
    "\n",
    "Overall, so far we have seen a slight bias towards classifying pairs as a contradiction, which could mean that the models were not punished\n",
    "for doing so during training, possibly due to bias-confirming samples."
   ],
   "metadata": {
    "collapsed": false,
    "pycharm": {
     "name": "#%% md\n"
    }
   }
  },
  {
   "cell_type": "markdown",
   "source": [
    "### Subjectivity Status (SUBJ)"
   ],
   "metadata": {
    "collapsed": false,
    "pycharm": {
     "name": "#%% md\n"
    }
   }
  },
  {
   "cell_type": "code",
   "execution_count": 16,
   "outputs": [
    {
     "data": {
      "text/plain": "<pandas.io.formats.style.Styler at 0x7f6fdd668d60>",
      "text/html": "<style  type=\"text/css\" >\n    #T_332ab_ th, td {\n          text-align: center;\n          padding: 0.5em 1em;\n    }</style><table id=\"T_332ab_\" ><thead>    <tr>        <th class=\"blank level0\" ></th>        <th class=\"col_heading level0 col0\" >baseline</th>        <th class=\"col_heading level0 col1\" >lstm</th>        <th class=\"col_heading level0 col2\" >bilstm</th>        <th class=\"col_heading level0 col3\" >bilstm-max</th>    </tr></thead><tbody>\n                <tr>\n                        <th id=\"T_332ab_level0_row0\" class=\"row_heading level0 row0\" >Everyone agrees that he is the best.<br>His skills are admirable.</th>\n                        <td id=\"T_332ab_row0_col0\" class=\"data row0 col0\" >neutral</td>\n                        <td id=\"T_332ab_row0_col1\" class=\"data row0 col1\" >entailment</td>\n                        <td id=\"T_332ab_row0_col2\" class=\"data row0 col2\" >entailment</td>\n                        <td id=\"T_332ab_row0_col3\" class=\"data row0 col3\" >entailment</td>\n            </tr>\n            <tr>\n                        <th id=\"T_332ab_level0_row1\" class=\"row_heading level0 row1\" >This is so pretty!<br>It hardly draws my attention.</th>\n                        <td id=\"T_332ab_row1_col0\" class=\"data row1 col0\" >entailment</td>\n                        <td id=\"T_332ab_row1_col1\" class=\"data row1 col1\" >contradiction</td>\n                        <td id=\"T_332ab_row1_col2\" class=\"data row1 col2\" >contradiction</td>\n                        <td id=\"T_332ab_row1_col3\" class=\"data row1 col3\" >contradiction</td>\n            </tr>\n            <tr>\n                        <th id=\"T_332ab_level0_row2\" class=\"row_heading level0 row2\" >I love the colors of the rainbow.<br>The sky is blue.</th>\n                        <td id=\"T_332ab_row2_col0\" class=\"data row2 col0\" >contradiction</td>\n                        <td id=\"T_332ab_row2_col1\" class=\"data row2 col1\" >contradiction</td>\n                        <td id=\"T_332ab_row2_col2\" class=\"data row2 col2\" >contradiction</td>\n                        <td id=\"T_332ab_row2_col3\" class=\"data row2 col3\" >neutral</td>\n            </tr>\n    </tbody></table>"
     },
     "metadata": {},
     "output_type": "display_data"
    }
   ],
   "source": [
    "query_models(\n",
    "    (\"Everyone agrees that he is the best.\", \"His skills are admirable.\"),\n",
    "    (\"This is so pretty!\", \"It hardly draws my attention.\"),\n",
    "    (\"I love the colors of the rainbow.\", \"The sky is blue.\")\n",
    ")"
   ],
   "metadata": {
    "collapsed": false,
    "pycharm": {
     "name": "#%%\n"
    }
   }
  },
  {
   "cell_type": "markdown",
   "source": [
    "In this domain we see more accurate predictions for entailment and contradiction, which confirms the 90% performance for the LSTM models.\n",
    "\n",
    "However, for the selected samples we see that the baseline is not able to properly identify either pair, in contrast to its reported accuracy.\n",
    "\n",
    "It is also interesting to see that the BiLSTM encoder with max-pooling is the only one that properly detects neutrality.\n",
    "One possible explanation could be that the words used in both sentences were semantically similar (referring to colors),\n",
    "which made the other architectures to miss the fact that the two sentences were about different entities."
   ],
   "metadata": {
    "collapsed": false,
    "pycharm": {
     "name": "#%% md\n"
    }
   }
  },
  {
   "cell_type": "markdown",
   "source": [
    "### Opinion Polarity (MPQA)"
   ],
   "metadata": {
    "collapsed": false,
    "pycharm": {
     "name": "#%% md\n"
    }
   }
  },
  {
   "cell_type": "code",
   "execution_count": 17,
   "outputs": [
    {
     "data": {
      "text/plain": "<pandas.io.formats.style.Styler at 0x7f6fdd870220>",
      "text/html": "<style  type=\"text/css\" >\n    #T_4a649_ th, td {\n          text-align: center;\n          padding: 0.5em 1em;\n    }</style><table id=\"T_4a649_\" ><thead>    <tr>        <th class=\"blank level0\" ></th>        <th class=\"col_heading level0 col0\" >baseline</th>        <th class=\"col_heading level0 col1\" >lstm</th>        <th class=\"col_heading level0 col2\" >bilstm</th>        <th class=\"col_heading level0 col3\" >bilstm-max</th>    </tr></thead><tbody>\n                <tr>\n                        <th id=\"T_4a649_level0_row0\" class=\"row_heading level0 row0\" >Everyone appraised his good work.<br>His efforts were highly appreciated.</th>\n                        <td id=\"T_4a649_row0_col0\" class=\"data row0 col0\" >neutral</td>\n                        <td id=\"T_4a649_row0_col1\" class=\"data row0 col1\" >entailment</td>\n                        <td id=\"T_4a649_row0_col2\" class=\"data row0 col2\" >entailment</td>\n                        <td id=\"T_4a649_row0_col3\" class=\"data row0 col3\" >entailment</td>\n            </tr>\n            <tr>\n                        <th id=\"T_4a649_level0_row1\" class=\"row_heading level0 row1\" >Their actions were harshly criticized.<br>They received positive feedback.</th>\n                        <td id=\"T_4a649_row1_col0\" class=\"data row1 col0\" >entailment</td>\n                        <td id=\"T_4a649_row1_col1\" class=\"data row1 col1\" >neutral</td>\n                        <td id=\"T_4a649_row1_col2\" class=\"data row1 col2\" >contradiction</td>\n                        <td id=\"T_4a649_row1_col3\" class=\"data row1 col3\" >contradiction</td>\n            </tr>\n            <tr>\n                        <th id=\"T_4a649_level0_row2\" class=\"row_heading level0 row2\" >It was a good movie.<br>The cinema was spacious.</th>\n                        <td id=\"T_4a649_row2_col0\" class=\"data row2 col0\" >contradiction</td>\n                        <td id=\"T_4a649_row2_col1\" class=\"data row2 col1\" >neutral</td>\n                        <td id=\"T_4a649_row2_col2\" class=\"data row2 col2\" >neutral</td>\n                        <td id=\"T_4a649_row2_col3\" class=\"data row2 col3\" >neutral</td>\n            </tr>\n    </tbody></table>"
     },
     "metadata": {},
     "output_type": "display_data"
    }
   ],
   "source": [
    "query_models(\n",
    "    (\"Everyone appraised his good work.\", \"His efforts were highly appreciated.\"),\n",
    "    (\"Their actions were harshly criticized.\", \"They received positive feedback.\"),\n",
    "    (\"It was a good movie.\", \"The cinema was spacious.\")\n",
    ")"
   ],
   "metadata": {
    "collapsed": false,
    "pycharm": {
     "name": "#%%\n"
    }
   }
  },
  {
   "cell_type": "markdown",
   "source": [
    "In this case we see great performance for the BiLSTM approaches, as they are able to identify the class of most pairs.\n",
    "\n",
    "However, given the simplicity of all sentences used, one would anticipate better performance for all models.\n",
    "\n",
    "One possible explanation could be that because the sentences could be viewed as semantically related, given that they are\n",
    "referring to characteristics or audience (dis)approval of a certain entity, the encoders have a hard time distinguishing\n",
    "between cases where the two contradict each other or are simply pointing to different objects."
   ],
   "metadata": {
    "collapsed": false,
    "pycharm": {
     "name": "#%% md\n"
    }
   }
  },
  {
   "cell_type": "markdown",
   "source": [
    "### Sentiment Analysis (SST)"
   ],
   "metadata": {
    "collapsed": false,
    "pycharm": {
     "name": "#%% md\n"
    }
   }
  },
  {
   "cell_type": "code",
   "execution_count": 18,
   "outputs": [
    {
     "data": {
      "text/plain": "<pandas.io.formats.style.Styler at 0x7f6fdd59f160>",
      "text/html": "<style  type=\"text/css\" >\n    #T_6c7cb_ th, td {\n          text-align: center;\n          padding: 0.5em 1em;\n    }</style><table id=\"T_6c7cb_\" ><thead>    <tr>        <th class=\"blank level0\" ></th>        <th class=\"col_heading level0 col0\" >baseline</th>        <th class=\"col_heading level0 col1\" >lstm</th>        <th class=\"col_heading level0 col2\" >bilstm</th>        <th class=\"col_heading level0 col3\" >bilstm-max</th>    </tr></thead><tbody>\n                <tr>\n                        <th id=\"T_6c7cb_level0_row0\" class=\"row_heading level0 row0\" >I am feeling passionate today!<br>I have so much motivation to get work done!</th>\n                        <td id=\"T_6c7cb_row0_col0\" class=\"data row0 col0\" >neutral</td>\n                        <td id=\"T_6c7cb_row0_col1\" class=\"data row0 col1\" >neutral</td>\n                        <td id=\"T_6c7cb_row0_col2\" class=\"data row0 col2\" >neutral</td>\n                        <td id=\"T_6c7cb_row0_col3\" class=\"data row0 col3\" >neutral</td>\n            </tr>\n            <tr>\n                        <th id=\"T_6c7cb_level0_row1\" class=\"row_heading level0 row1\" >I like sunbathing.<br>I hate the sunlight.</th>\n                        <td id=\"T_6c7cb_row1_col0\" class=\"data row1 col0\" >neutral</td>\n                        <td id=\"T_6c7cb_row1_col1\" class=\"data row1 col1\" >contradiction</td>\n                        <td id=\"T_6c7cb_row1_col2\" class=\"data row1 col2\" >contradiction</td>\n                        <td id=\"T_6c7cb_row1_col3\" class=\"data row1 col3\" >contradiction</td>\n            </tr>\n            <tr>\n                        <th id=\"T_6c7cb_level0_row2\" class=\"row_heading level0 row2\" >This is a nice piece of cake.<br>The house looks scary.</th>\n                        <td id=\"T_6c7cb_row2_col0\" class=\"data row2 col0\" >contradiction</td>\n                        <td id=\"T_6c7cb_row2_col1\" class=\"data row2 col1\" >contradiction</td>\n                        <td id=\"T_6c7cb_row2_col2\" class=\"data row2 col2\" >contradiction</td>\n                        <td id=\"T_6c7cb_row2_col3\" class=\"data row2 col3\" >contradiction</td>\n            </tr>\n    </tbody></table>"
     },
     "metadata": {},
     "output_type": "display_data"
    }
   ],
   "source": [
    "query_models(\n",
    "    (\"I am feeling passionate today!\", \"I have so much motivation to get work done!\"),\n",
    "    (\"I like sunbathing.\", \"I hate the sunlight.\"),\n",
    "    (\"This is a nice piece of cake.\", \"The house looks scary.\")\n",
    ")"
   ],
   "metadata": {
    "collapsed": false,
    "pycharm": {
     "name": "#%%\n"
    }
   }
  },
  {
   "cell_type": "markdown",
   "source": [
    "In this domain we see the most unexpected results, with all classifiers failing to identify the entailment pair.\n",
    "\n",
    "Additionally, they seem heavily biased towards contradiction, as they also misjudge the neutral.\n",
    "\n",
    "Although the LSTM encoders identify the true contradiction pair, it seems to be indiferrent to the baseline approach."
   ],
   "metadata": {
    "collapsed": false,
    "pycharm": {
     "name": "#%% md\n"
    }
   }
  },
  {
   "cell_type": "markdown",
   "source": [
    "### Question Classification (TREC)"
   ],
   "metadata": {
    "collapsed": false,
    "pycharm": {
     "name": "#%% md\n"
    }
   }
  },
  {
   "cell_type": "code",
   "execution_count": 19,
   "outputs": [
    {
     "data": {
      "text/plain": "<pandas.io.formats.style.Styler at 0x7f6fdd8e7d30>",
      "text/html": "<style  type=\"text/css\" >\n    #T_0b908_ th, td {\n          text-align: center;\n          padding: 0.5em 1em;\n    }</style><table id=\"T_0b908_\" ><thead>    <tr>        <th class=\"blank level0\" ></th>        <th class=\"col_heading level0 col0\" >baseline</th>        <th class=\"col_heading level0 col1\" >lstm</th>        <th class=\"col_heading level0 col2\" >bilstm</th>        <th class=\"col_heading level0 col3\" >bilstm-max</th>    </tr></thead><tbody>\n                <tr>\n                        <th id=\"T_0b908_level0_row0\" class=\"row_heading level0 row0\" >Is this the tallest mountain?<br>Is this the highest peak?</th>\n                        <td id=\"T_0b908_row0_col0\" class=\"data row0 col0\" >neutral</td>\n                        <td id=\"T_0b908_row0_col1\" class=\"data row0 col1\" >entailment</td>\n                        <td id=\"T_0b908_row0_col2\" class=\"data row0 col2\" >entailment</td>\n                        <td id=\"T_0b908_row0_col3\" class=\"data row0 col3\" >entailment</td>\n            </tr>\n            <tr>\n                        <th id=\"T_0b908_level0_row1\" class=\"row_heading level0 row1\" >Is the sky blue?<br>Is the sky black?</th>\n                        <td id=\"T_0b908_row1_col0\" class=\"data row1 col0\" >entailment</td>\n                        <td id=\"T_0b908_row1_col1\" class=\"data row1 col1\" >contradiction</td>\n                        <td id=\"T_0b908_row1_col2\" class=\"data row1 col2\" >contradiction</td>\n                        <td id=\"T_0b908_row1_col3\" class=\"data row1 col3\" >contradiction</td>\n            </tr>\n            <tr>\n                        <th id=\"T_0b908_level0_row2\" class=\"row_heading level0 row2\" >Who won the championship?<br>Who is the president of the United States?</th>\n                        <td id=\"T_0b908_row2_col0\" class=\"data row2 col0\" >contradiction</td>\n                        <td id=\"T_0b908_row2_col1\" class=\"data row2 col1\" >contradiction</td>\n                        <td id=\"T_0b908_row2_col2\" class=\"data row2 col2\" >neutral</td>\n                        <td id=\"T_0b908_row2_col3\" class=\"data row2 col3\" >contradiction</td>\n            </tr>\n    </tbody></table>"
     },
     "metadata": {},
     "output_type": "display_data"
    }
   ],
   "source": [
    "query_models(\n",
    "    (\"Is this the tallest mountain?\", \"Is this the highest peak?\"),\n",
    "    (\"Is the sky blue?\", \"Is the sky black?\"),\n",
    "    (\"Who won the championship?\", \"Who is the president of the United States?\")\n",
    ")"
   ],
   "metadata": {
    "collapsed": false,
    "pycharm": {
     "name": "#%%\n"
    }
   }
  },
  {
   "cell_type": "markdown",
   "source": [
    "In this case, we observe results that mostly confirm the anticipated performance given the detailed SentEval table.\n",
    "\n",
    "The LSTM architectures are mostly performing well, with some of them failing at the neutral case.\n",
    "\n",
    "On the contrary, the baseline approach fails to correctly identify any of the given pairs.\n",
    "\n",
    "Again, we see that some models have a difficult time discerning between similar semantic categories and the true relation of two sentences."
   ],
   "metadata": {
    "collapsed": false,
    "pycharm": {
     "name": "#%% md\n"
    }
   }
  },
  {
   "cell_type": "markdown",
   "source": [
    "### Paraphrase Detection (MRPC)"
   ],
   "metadata": {
    "collapsed": false,
    "pycharm": {
     "name": "#%% md\n"
    }
   }
  },
  {
   "cell_type": "code",
   "execution_count": 20,
   "outputs": [
    {
     "data": {
      "text/plain": "<pandas.io.formats.style.Styler at 0x7f6fdd470850>",
      "text/html": "<style  type=\"text/css\" >\n    #T_b5b85_ th, td {\n          text-align: center;\n          padding: 0.5em 1em;\n    }</style><table id=\"T_b5b85_\" ><thead>    <tr>        <th class=\"blank level0\" ></th>        <th class=\"col_heading level0 col0\" >baseline</th>        <th class=\"col_heading level0 col1\" >lstm</th>        <th class=\"col_heading level0 col2\" >bilstm</th>        <th class=\"col_heading level0 col3\" >bilstm-max</th>    </tr></thead><tbody>\n                <tr>\n                        <th id=\"T_b5b85_level0_row0\" class=\"row_heading level0 row0\" >The city vividly celebrates Christmas.<br>There are festive events throughout the city.</th>\n                        <td id=\"T_b5b85_row0_col0\" class=\"data row0 col0\" >entailment</td>\n                        <td id=\"T_b5b85_row0_col1\" class=\"data row0 col1\" >entailment</td>\n                        <td id=\"T_b5b85_row0_col2\" class=\"data row0 col2\" >entailment</td>\n                        <td id=\"T_b5b85_row0_col3\" class=\"data row0 col3\" >entailment</td>\n            </tr>\n            <tr>\n                        <th id=\"T_b5b85_level0_row1\" class=\"row_heading level0 row1\" >The football stadium was packed.<br>Nobody attended the football match.</th>\n                        <td id=\"T_b5b85_row1_col0\" class=\"data row1 col0\" >neutral</td>\n                        <td id=\"T_b5b85_row1_col1\" class=\"data row1 col1\" >contradiction</td>\n                        <td id=\"T_b5b85_row1_col2\" class=\"data row1 col2\" >contradiction</td>\n                        <td id=\"T_b5b85_row1_col3\" class=\"data row1 col3\" >contradiction</td>\n            </tr>\n            <tr>\n                        <th id=\"T_b5b85_level0_row2\" class=\"row_heading level0 row2\" >The museum was definitely worth visiting.<br>The sea was crystal clear.</th>\n                        <td id=\"T_b5b85_row2_col0\" class=\"data row2 col0\" >contradiction</td>\n                        <td id=\"T_b5b85_row2_col1\" class=\"data row2 col1\" >contradiction</td>\n                        <td id=\"T_b5b85_row2_col2\" class=\"data row2 col2\" >contradiction</td>\n                        <td id=\"T_b5b85_row2_col3\" class=\"data row2 col3\" >contradiction</td>\n            </tr>\n    </tbody></table>"
     },
     "metadata": {},
     "output_type": "display_data"
    }
   ],
   "source": [
    "query_models(\n",
    "    (\"The city vividly celebrates Christmas.\", \"There are festive events throughout the city.\"),\n",
    "    (\"The football stadium was packed.\", \"Nobody attended the football match.\"),\n",
    "    (\"The museum was definitely worth visiting.\", \"The sea was crystal clear.\")\n",
    ")"
   ],
   "metadata": {
    "collapsed": false,
    "pycharm": {
     "name": "#%%\n"
    }
   }
  },
  {
   "cell_type": "markdown",
   "source": [
    "While entailment and contradiction are generally easy to detect for almost all models, we see that none of them detect the neutral pair.\n",
    "\n",
    "In general, the models seem to be biased _against_ the latter case, as we only see one prediction for \"neutral\", which was not even a correct classification."
   ],
   "metadata": {
    "collapsed": false,
    "pycharm": {
     "name": "#%% md\n"
    }
   }
  },
  {
   "cell_type": "markdown",
   "source": [
    "### Semantic Similarity (SICK-R / STS14)"
   ],
   "metadata": {
    "collapsed": false,
    "pycharm": {
     "name": "#%% md\n"
    }
   }
  },
  {
   "cell_type": "code",
   "execution_count": 21,
   "outputs": [
    {
     "data": {
      "text/plain": "<pandas.io.formats.style.Styler at 0x7f70f003c0d0>",
      "text/html": "<style  type=\"text/css\" >\n    #T_6b824_ th, td {\n          text-align: center;\n          padding: 0.5em 1em;\n    }</style><table id=\"T_6b824_\" ><thead>    <tr>        <th class=\"blank level0\" ></th>        <th class=\"col_heading level0 col0\" >baseline</th>        <th class=\"col_heading level0 col1\" >lstm</th>        <th class=\"col_heading level0 col2\" >bilstm</th>        <th class=\"col_heading level0 col3\" >bilstm-max</th>    </tr></thead><tbody>\n                <tr>\n                        <th id=\"T_6b824_level0_row0\" class=\"row_heading level0 row0\" >I am solving exercises for revision.<br>I am studying for my exam.</th>\n                        <td id=\"T_6b824_row0_col0\" class=\"data row0 col0\" >neutral</td>\n                        <td id=\"T_6b824_row0_col1\" class=\"data row0 col1\" >contradiction</td>\n                        <td id=\"T_6b824_row0_col2\" class=\"data row0 col2\" >contradiction</td>\n                        <td id=\"T_6b824_row0_col3\" class=\"data row0 col3\" >neutral</td>\n            </tr>\n            <tr>\n                        <th id=\"T_6b824_level0_row1\" class=\"row_heading level0 row1\" >I like sports!<br>I am not very athletic.</th>\n                        <td id=\"T_6b824_row1_col0\" class=\"data row1 col0\" >neutral</td>\n                        <td id=\"T_6b824_row1_col1\" class=\"data row1 col1\" >contradiction</td>\n                        <td id=\"T_6b824_row1_col2\" class=\"data row1 col2\" >contradiction</td>\n                        <td id=\"T_6b824_row1_col3\" class=\"data row1 col3\" >contradiction</td>\n            </tr>\n            <tr>\n                        <th id=\"T_6b824_level0_row2\" class=\"row_heading level0 row2\" >Chemistry is my favorite class!<br>My portfolio is empty.</th>\n                        <td id=\"T_6b824_row2_col0\" class=\"data row2 col0\" >contradiction</td>\n                        <td id=\"T_6b824_row2_col1\" class=\"data row2 col1\" >contradiction</td>\n                        <td id=\"T_6b824_row2_col2\" class=\"data row2 col2\" >contradiction</td>\n                        <td id=\"T_6b824_row2_col3\" class=\"data row2 col3\" >contradiction</td>\n            </tr>\n    </tbody></table>"
     },
     "metadata": {},
     "output_type": "display_data"
    }
   ],
   "source": [
    "query_models(\n",
    "    (\"I am solving exercises for revision.\", \"I am studying for my exam.\"),\n",
    "    (\"I like sports!\", \"I am not very athletic.\"),\n",
    "    (\"Chemistry is my favorite class!\", \"My portfolio is empty.\")\n",
    ")"
   ],
   "metadata": {
    "collapsed": false,
    "pycharm": {
     "name": "#%%\n"
    }
   }
  },
  {
   "cell_type": "markdown",
   "source": [
    "Once again, we see a scenario where contradiction dominates the predictions of all models.\n",
    "\n",
    "This further demonstrates that the models come to their breaking point when trying to compare sentences that are semantically close,\n",
    "as the similarity may often overshadow the subtle information that could shift the meaning from entailment to contradiction."
   ],
   "metadata": {
    "collapsed": false,
    "pycharm": {
     "name": "#%% md\n"
    }
   }
  },
  {
   "cell_type": "markdown",
   "source": [
    "### Natural Language Inference (SICK-E)"
   ],
   "metadata": {
    "collapsed": false,
    "pycharm": {
     "name": "#%% md\n"
    }
   }
  },
  {
   "cell_type": "code",
   "execution_count": 22,
   "outputs": [
    {
     "data": {
      "text/plain": "<pandas.io.formats.style.Styler at 0x7f6fdd470550>",
      "text/html": "<style  type=\"text/css\" >\n    #T_5bf36_ th, td {\n          text-align: center;\n          padding: 0.5em 1em;\n    }</style><table id=\"T_5bf36_\" ><thead>    <tr>        <th class=\"blank level0\" ></th>        <th class=\"col_heading level0 col0\" >baseline</th>        <th class=\"col_heading level0 col1\" >lstm</th>        <th class=\"col_heading level0 col2\" >bilstm</th>        <th class=\"col_heading level0 col3\" >bilstm-max</th>    </tr></thead><tbody>\n                <tr>\n                        <th id=\"T_5bf36_level0_row0\" class=\"row_heading level0 row0\" >Two kids are kicking a ball.<br>The kids are playing football.</th>\n                        <td id=\"T_5bf36_row0_col0\" class=\"data row0 col0\" >contradiction</td>\n                        <td id=\"T_5bf36_row0_col1\" class=\"data row0 col1\" >neutral</td>\n                        <td id=\"T_5bf36_row0_col2\" class=\"data row0 col2\" >neutral</td>\n                        <td id=\"T_5bf36_row0_col3\" class=\"data row0 col3\" >neutral</td>\n            </tr>\n            <tr>\n                        <th id=\"T_5bf36_level0_row1\" class=\"row_heading level0 row1\" >The dog is eating food.<br>The dog is sleeping.</th>\n                        <td id=\"T_5bf36_row1_col0\" class=\"data row1 col0\" >contradiction</td>\n                        <td id=\"T_5bf36_row1_col1\" class=\"data row1 col1\" >contradiction</td>\n                        <td id=\"T_5bf36_row1_col2\" class=\"data row1 col2\" >contradiction</td>\n                        <td id=\"T_5bf36_row1_col3\" class=\"data row1 col3\" >contradiction</td>\n            </tr>\n            <tr>\n                        <th id=\"T_5bf36_level0_row2\" class=\"row_heading level0 row2\" >The weather is nice today!<br>I ate pasta for lunch.</th>\n                        <td id=\"T_5bf36_row2_col0\" class=\"data row2 col0\" >contradiction</td>\n                        <td id=\"T_5bf36_row2_col1\" class=\"data row2 col1\" >contradiction</td>\n                        <td id=\"T_5bf36_row2_col2\" class=\"data row2 col2\" >contradiction</td>\n                        <td id=\"T_5bf36_row2_col3\" class=\"data row2 col3\" >contradiction</td>\n            </tr>\n    </tbody></table>"
     },
     "metadata": {},
     "output_type": "display_data"
    }
   ],
   "source": [
    "query_models(\n",
    "    (\"Two kids are kicking a ball.\", \"The kids are playing football.\"),\n",
    "    (\"The dog is eating food.\", \"The dog is sleeping.\"),\n",
    "    (\"The weather is nice today!\", \"I ate pasta for lunch.\")\n",
    ")"
   ],
   "metadata": {
    "collapsed": false,
    "pycharm": {
     "name": "#%%\n"
    }
   }
  },
  {
   "cell_type": "markdown",
   "source": [
    "This is very similar to the previous case, only that now the results are totally unexpected as these sentences are the ones that look the most similar\n",
    "to the actual training task on which these models were trained on. Once again, contradiction is dominant, while the models hesitate to predict the\n",
    "entailment pair as such, and instead opt for a \"neutral\" classification."
   ],
   "metadata": {
    "collapsed": false,
    "pycharm": {
     "name": "#%% md\n"
    }
   }
  }
 ],
 "metadata": {
  "kernelspec": {
   "display_name": "Python 3 (ipykernel)",
   "language": "python",
   "name": "python3"
  },
  "language_info": {
   "codemirror_mode": {
    "name": "ipython",
    "version": 3
   },
   "file_extension": ".py",
   "mimetype": "text/x-python",
   "name": "python",
   "nbconvert_exporter": "python",
   "pygments_lexer": "ipython3",
   "version": "3.8.13"
  }
 },
 "nbformat": 4,
 "nbformat_minor": 1
}